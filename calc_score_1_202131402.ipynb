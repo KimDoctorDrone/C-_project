{
 "cells": [
  {
   "cell_type": "code",
   "execution_count": 1,
   "metadata": {},
   "outputs": [
    {
     "name": "stdout",
     "output_type": "stream",
     "text": [
      "과제의 갯수는: 1\n",
      "1번째 과제의 점수: 90\n",
      "중간고사 성적을 입력해주세요?90\n",
      "기말고사 성적을 입력해주세요?90\n",
      "\n",
      "총점이 90점이므로\n",
      "과제의 평균은 90.00점입니다.\n",
      "과제 반영점수(40%) 36.0 중간 반영점수(30%) 27.0 기말 반영점수(30%) 27.0\n",
      "성적은A입니다.\n"
     ]
    }
   ],
   "source": [
    "\n",
    "def average():\n",
    "    s = 0\n",
    "    n=int(input(\"과제의 갯수는: \"))\n",
    "\n",
    "    for x in range(1,n+1): \n",
    "        a=float(input(\"%d번째 과제의 점수: \"%(x)))\n",
    "        s+=a\n",
    "    \n",
    "\n",
    "    \n",
    "    mid = int(input(\"중간고사 성적을 입력해주세요?\"))\n",
    "\n",
    "    fin = int(input(\"기말고사 성적을 입력해주세요?\"))\n",
    "    \n",
    "    H = a * 0.4\n",
    "\n",
    "    M = mid * 0.3\n",
    "\n",
    "    F = fin * 0.3\n",
    "\n",
    "    score = H + M + F\n",
    "    if 100 >= score >= 90:\n",
    "        grade = \"A\"\n",
    "    elif 90 > score >= 80:\n",
    "        grade = \"B\"\n",
    "    elif 80 > score >= 70:\n",
    "        grade = \"C\"\n",
    "    elif 70 > score >= 60:\n",
    "        grade = \"D\"\n",
    "    elif score < 60:\n",
    "        grade = \"F\"\n",
    "    \n",
    "    \n",
    "    print(\"\\n총점이 %d점이므로\"%s)\n",
    "    print(\"과제의 평균은 %.2f점입니다.\"%(s/n))\n",
    "    \n",
    "    print(\"과제 반영점수(40%)\" , H, \"중간 반영점수(30%)\" , M, \"기말 반영점수(30%)\" , F)\n",
    "    print(\"성적은\" + grade + \"입니다.\")\n",
    "\n",
    "average()\n",
    "\n",
    "\n"
   ]
  },
  {
   "cell_type": "code",
   "execution_count": null,
   "metadata": {},
   "outputs": [],
   "source": []
  }
 ],
 "metadata": {
  "kernelspec": {
   "display_name": "Python 3",
   "language": "python",
   "name": "python3"
  },
  "language_info": {
   "codemirror_mode": {
    "name": "ipython",
    "version": 3
   },
   "file_extension": ".py",
   "mimetype": "text/x-python",
   "name": "python",
   "nbconvert_exporter": "python",
   "pygments_lexer": "ipython3",
   "version": "3.8.5"
  }
 },
 "nbformat": 4,
 "nbformat_minor": 4
}
